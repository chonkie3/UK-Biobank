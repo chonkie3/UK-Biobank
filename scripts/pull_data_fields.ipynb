{
 "cells": [
  {
   "cell_type": "code",
   "execution_count": null,
   "metadata": {},
   "outputs": [],
   "source": [
    "import pandas as pd\n",
    "\n",
    "# Load the data\n",
    "# Assuming 'data.dataset' is a CSV-like file where columns are field names and descriptions\n",
    "# Adjust the delimiter as per your file's format\n",
    "data = pd.read_csv('data.dataset', delimiter='\\t')  # Replace delimiter if necessary\n",
    "\n",
    "# Extract field names and descriptions\n",
    "field_names = data['field_name_column']  # Replace with actual column name for field names\n",
    "descriptions = data['description_column']  # Replace with actual column name for descriptions\n",
    "\n",
    "# Create File 1 - Only field names, no heading\n",
    "field_names.to_csv('field_names.txt', index=False, header=False)\n",
    "\n",
    "# Create File 2 - Field names and descriptions with headings\n",
    "field_desc_df = pd.DataFrame({'Field_Name': field_names, 'Description': descriptions})\n",
    "field_desc_df.to_csv('field_descriptions.txt', index=False)\n",
    "\n",
    "print(\"Files 'field_names.txt' and 'field_descriptions.txt' have been created successfully.\")\n"
   ]
  },
  {
   "cell_type": "code",
   "execution_count": null,
   "metadata": {},
   "outputs": [],
   "source": []
  }
 ],
 "metadata": {
  "language_info": {
   "name": "python"
  }
 },
 "nbformat": 4,
 "nbformat_minor": 2
}
