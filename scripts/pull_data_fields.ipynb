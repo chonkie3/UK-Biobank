{
 "cells": [
  {
   "cell_type": "markdown",
   "metadata": {
    "vscode": {
     "languageId": "plaintext"
    }
   },
   "source": [
    "### 1. Run this to Extract All Data Fields in the UK Biobank"
   ]
  },
  {
   "cell_type": "code",
   "execution_count": null,
   "metadata": {},
   "outputs": [],
   "source": [
    "import dxpy\n",
    "import subprocess\n",
    "\n",
    "# Automatically discover dispensed dataset ID and load the dataset \n",
    "# 'data.dataset' you would need to make this your dataset name\n",
    "dispensed_dataset_id = dxpy.find_one_data_object(typename='Dataset', name='data.dataset', folder='/', name_mode='glob')['id']\n",
    "\n",
    "# Get project ID\n",
    "project_id = dxpy.find_one_project()[\"id\"]\n",
    "dataset = (':').join([project_id, dispensed_dataset_id])\n",
    "\n",
    "cmd = [\"dx\", \"extract_dataset\", dataset, \"-ddd\", \"--delimiter\", \",\"]\n",
    "subprocess.check_call(cmd)\n"
   ]
  },
  {
   "cell_type": "code",
   "execution_count": null,
   "metadata": {},
   "outputs": [],
   "source": [
    "# Outputs 3 files\n",
    "# {filename}.codings.csv\n",
    "# {filename}.data_dictionary.csv\n",
    "# {filename}.entry_dictionary.csv"
   ]
  },
  {
   "cell_type": "code",
   "execution_count": null,
   "metadata": {},
   "outputs": [],
   "source": [
    "# Use {filename}.data_dictionary.csv and extract all field_columns into single column in text file\n",
    "import pandas as pd\n",
    "\n",
    "# Load the CSV file\n",
    "data = pd.read_csv('data.dataset.data_dictionary.csv')\n",
    "\n",
    "# Extract the 'name' column\n",
    "name_column = data['name']\n",
    "\n",
    "# Save to a text file with no header\n",
    "name_column.to_csv('name_column.txt', index=False, header=False)"
   ]
  },
  {
   "cell_type": "markdown",
   "metadata": {},
   "source": [
    "### 2. Run this to Export Files back to RAP"
   ]
  },
  {
   "cell_type": "code",
   "execution_count": null,
   "metadata": {},
   "outputs": [],
   "source": [
    "# Export Data saved on Jupyter Notebook back to RAP\n",
    "import dxpy"
   ]
  },
  {
   "cell_type": "code",
   "execution_count": null,
   "metadata": {},
   "outputs": [],
   "source": [
    "# Specify the file names to export to the RAP\n",
    "# You will need to specify the file names\n",
    "file_paths = [\n",
    "    \"name_column.txt\",\n",
    "    \"data.dataset.codings.csv\", \n",
    "    \"data.dataset.data_dictionary.csv\", \n",
    "    \"data.dataset.entity_dictionary.csv\"]"
   ]
  },
  {
   "cell_type": "code",
   "execution_count": null,
   "metadata": {},
   "outputs": [],
   "source": [
    "# Specify the destination to export to the RAP\n",
    "# the folder destination needs to start with = \"/ the forward slash is important\n",
    "destination_folder = \"/MSc Project/Output\""
   ]
  },
  {
   "cell_type": "code",
   "execution_count": null,
   "metadata": {},
   "outputs": [],
   "source": [
    "# Run the loop over the entire list of file names\n",
    "for file_path in file_paths:\n",
    "    uploaded_file = dxpy.upload_local_file(filename=file_path, folder=destination_folder)"
   ]
  }
 ],
 "metadata": {
  "language_info": {
   "name": "python"
  }
 },
 "nbformat": 4,
 "nbformat_minor": 2
}
