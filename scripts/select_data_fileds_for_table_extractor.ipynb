{
 "cells": [
  {
   "cell_type": "markdown",
   "metadata": {},
   "source": [
    "### 1. Extract All the Fields from UK Biobank"
   ]
  },
  {
   "cell_type": "code",
   "execution_count": null,
   "metadata": {},
   "outputs": [],
   "source": [
    "### Getting File ready for Table Exporter in DNANexus\n",
    "## This extracts all the fields into 3 files | We are mainly interested in the data.dataset.data_dictionary.csv file\n",
    "# Remember that you data.dataset needs to match your dataset in the UK Biobank folder\n",
    "\n",
    "import dxpy\n",
    "import subprocess\n",
    "\n",
    "# Automatically discover dispensed dataset ID and load the dataset \n",
    "# 'data.dataset' you would need to make this your dataset name\n",
    "dispensed_dataset_id = dxpy.find_one_data_object(typename='Dataset', name='data.dataset', folder='/', name_mode='glob')['id']\n",
    "\n",
    "# Get project ID\n",
    "project_id = dxpy.find_one_project()[\"id\"]\n",
    "dataset = (':').join([project_id, dispensed_dataset_id])\n",
    "\n",
    "cmd = [\"dx\", \"extract_dataset\", dataset, \"-ddd\", \"--delimiter\", \",\"]\n",
    "subprocess.check_call(cmd)\n"
   ]
  },
  {
   "cell_type": "markdown",
   "metadata": {},
   "source": [
    "### 2. Filter the Fields that you need into a text file ready for Table Exporter"
   ]
  },
  {
   "cell_type": "code",
   "execution_count": null,
   "metadata": {},
   "outputs": [],
   "source": [
    "import pandas as pd\n",
    "\n",
    "# Load the CSV file into a DataFrame\n",
    "df = pd.read_csv('data.dataset.data_dictionary.csv')  # replace with the actual path to your file\n",
    "\n",
    "# Create a filter to keep rows where 'units' has a value or where 'name' is 'eid'\n",
    "# I created a simple filter by only choosing the rows with units and including the participant code\n",
    "filtered_df = df[(df['units'].notna()) | (df['name'] == 'eid')]\n",
    "\n",
    "# Select only the 'name' column\n",
    "name_column = filtered_df['name']\n",
    "\n",
    "# Save to a txt file without header or index\n",
    "name_column.to_csv('unit_filter.txt', header=False, index=False)"
   ]
  },
  {
   "cell_type": "markdown",
   "metadata": {},
   "source": [
    "### 3. Export File back to UK Biobank RAP"
   ]
  },
  {
   "cell_type": "code",
   "execution_count": null,
   "metadata": {},
   "outputs": [],
   "source": [
    "# Export Data saved on Jupyter Notebook back to RAP\n",
    "import dxpy\n",
    "     \n",
    "# Specify the file names to export to the RAP\n",
    "# You will need to specify the file names\n",
    "file_paths = [\n",
    "    \"field_name_column.txt\",\n",
    "    \"data.dataset.codings.csv\", \n",
    "    \"data.dataset.data_dictionary.csv\", \n",
    "    \"data.dataset.entity_dictionary.csv\"]\n",
    "     \n",
    "\n",
    "# Specify the destination to export to the RAP\n",
    "# the folder destination needs to start with = \"/ the forward slash is important\n",
    "destination_folder = \"/MSc Project/Output\"\n",
    "     \n",
    "\n",
    "# Run the loop over the entire list of file names\n",
    "for file_path in file_paths:\n",
    "    uploaded_file = dxpy.upload_local_file(filename=file_path, folder=destination_folder)"
   ]
  }
 ],
 "metadata": {
  "language_info": {
   "name": "python"
  }
 },
 "nbformat": 4,
 "nbformat_minor": 2
}
